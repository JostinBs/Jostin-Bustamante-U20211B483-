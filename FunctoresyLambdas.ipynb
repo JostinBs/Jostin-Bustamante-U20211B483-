{
  "nbformat": 4,
  "nbformat_minor": 0,
  "metadata": {
    "colab": {
      "name": "FunctoresyLambdas.ipynb",
      "provenance": [],
      "authorship_tag": "ABX9TyOirMVy50HqmYVPmZm+IXTU",
      "include_colab_link": true
    },
    "kernelspec": {
      "name": "python3",
      "display_name": "Python 3"
    },
    "language_info": {
      "name": "python"
    }
  },
  "cells": [
    {
      "cell_type": "markdown",
      "metadata": {
        "id": "view-in-github",
        "colab_type": "text"
      },
      "source": [
        "<a href=\"https://colab.research.google.com/github/JostinBs/Jostin-Bustamante-U20211B483-/blob/main/FunctoresyLambdas.ipynb\" target=\"_parent\"><img src=\"https://colab.research.google.com/assets/colab-badge.svg\" alt=\"Open In Colab\"/></a>"
      ]
    },
    {
      "cell_type": "markdown",
      "source": [
        "#Ejercicio 1\n",
        "En el gobierno del presidente Vizcarra\n",
        " se hizo medidas de emergencia por la pandemia que fueron.\n",
        " *Los dias lunes,miercoles y viernes salen los hombres.\n",
        " *Los dias martes,jueves y sabados las mujeres.\n",
        " Implementar dicha funcionalidad haciendo uso de lambdas y functores.\n"
      ],
      "metadata": {
        "id": "PIw0WV-kDla7"
      }
    },
    {
      "cell_type": "code",
      "execution_count": 39,
      "metadata": {
        "colab": {
          "base_uri": "https://localhost:8080/"
        },
        "id": "9ZUAG7fg34Fb",
        "outputId": "b94295be-4fb2-43a9-8cc8-aa913e886b4e"
      },
      "outputs": [
        {
          "output_type": "stream",
          "name": "stdout",
          "text": [
            "Overwriting ejercicio1.cpp\n"
          ]
        }
      ],
      "source": [
        "%%writefile ejercicio1.cpp\n",
        "#include<iostream>\n",
        "#include<functional>\n",
        "void sMujeres(){cout<<\"Salen las mujeres\";};\n",
        "void sHombres(){cout<<\"Salen los homres\";};\n",
        "using std::function;\n",
        "using std:: cin;\n",
        "using std:: cout;\n",
        "void salir(function<void()> f){\n",
        "    f();\n",
        "}\n",
        "\n",
        "int main(){\n",
        "    unsigned short dia;\n",
        "    cout<<\"Ingrese dia\";\n",
        "    cin>>dia;\n",
        "    switch(dia){\n",
        "        \n",
        "        case 1:case 3:case 5:salir(sHombres) ;break;\n",
        "        case 2:case 4:case 6:salir(sMujeres) ;break;\n",
        "\n",
        "    }\n",
        "\n",
        "\n",
        "\n",
        "\n",
        "\n",
        "\n",
        "\n",
        "  \n",
        "}"
      ]
    },
    {
      "cell_type": "code",
      "source": [
        "!g++ ejercicio1.cpp && ./a.out"
      ],
      "metadata": {
        "id": "4HQkH6iyJu_J"
      },
      "execution_count": null,
      "outputs": []
    },
    {
      "cell_type": "markdown",
      "source": [
        "Ejercicio 2"
      ],
      "metadata": {
        "id": "SBsLQXIMJvQZ"
      }
    },
    {
      "cell_type": "code",
      "source": [
        "%%writefile ejercicio2.cpp\n",
        "#include<iostream>\n",
        "#include<functional>\n",
        "using std::function;\n",
        "using std::cin;\n",
        "using std:: cout;\n",
        "void salir(function<void()> f){ f();}\n",
        "\n",
        "int main(){\n",
        "    auto                  sMujeres = []()->void{cout<<\"Salen las  mujeres\";};\n",
        "    function<void()>      sHombres = []()->void{cout<<\"Salen los hombres\";};\n",
        "    unsigned short dia;\n",
        "    cout<<\"Ingrese dia\";\n",
        "    cin>>dia;\n",
        "    switch(dia){\n",
        "        \n",
        "        case 1:case 3:case 5:salir(sHombres) ;break;\n",
        "        case 2:case 4:case 6:salir(sMujeres) ;break;\n",
        "\n",
        "    }\n",
        "\n",
        "\n",
        "\n",
        "\n",
        "\n",
        "\n",
        "\n",
        "  \n",
        "}"
      ],
      "metadata": {
        "colab": {
          "base_uri": "https://localhost:8080/"
        },
        "id": "Q4dgFMZcJyQv",
        "outputId": "7a438462-a04e-463d-9317-48f4dba7ceaa"
      },
      "execution_count": 42,
      "outputs": [
        {
          "output_type": "stream",
          "name": "stdout",
          "text": [
            "Overwriting ejercicio2.cpp\n"
          ]
        }
      ]
    },
    {
      "cell_type": "code",
      "source": [
        "!g++ ejercicio2.cpp && ./a.out"
      ],
      "metadata": {
        "colab": {
          "base_uri": "https://localhost:8080/"
        },
        "id": "7ACz9NItKjxq",
        "outputId": "a41346fc-6283-49ad-8d1e-0bd9cecb08fb"
      },
      "execution_count": 45,
      "outputs": [
        {
          "output_type": "stream",
          "name": "stdout",
          "text": [
            "Ingrese dia2\n",
            "Salen las  mujeres"
          ]
        }
      ]
    },
    {
      "cell_type": "markdown",
      "source": [
        "Ejercicio 3\n",
        "Implementar las 4 operaciones basicas con uso de puntores y lanbdas.\n",
        "Implemetar  un metodo operacion que tenga como parametro la funcion basica y dos numeros reales.\n"
      ],
      "metadata": {
        "id": "qbjKLIDLKkAg"
      }
    },
    {
      "cell_type": "code",
      "source": [
        "%%writefile ejercicio3.cpp\n",
        "\n",
        "#include <iostream>\n",
        "\n",
        "#include <functional>\n",
        "\n",
        "using std::function;\n",
        "\n",
        "using std::cin;\n",
        "\n",
        "using std::cout;\n",
        "\n",
        "void Menu();\n",
        "\n",
        "void operacion(function<int(int, int)> op, int x, int y){\n",
        "\n",
        "    cout << op(x, y);\n",
        "\n",
        "}\n",
        "\n",
        "\n",
        "\n",
        "int main(){\n",
        "\n",
        "    function<int(int, int)> suma = [](int x, int y)->int{return x + y;};\n",
        "\n",
        "    function<int(int, int)> resta = [](int x, int y)->int{return x - y;};\n",
        "\n",
        "    function<int(int, int)> mult = [](int x, int y)->int{return x * y;};\n",
        "\n",
        "    function<int(int, int)> divi = [](int x, int y)->int{return x / y;};\n",
        "\n",
        "    unsigned short seleccion;\n",
        "\n",
        "    do {\n",
        "\n",
        "    Menu();\n",
        "\n",
        "    cout << \"Ingrese un número: \";\n",
        "\n",
        "    cin >> seleccion;\n",
        "\n",
        "    }while (seleccion <1 || seleccion >4);\n",
        "\n",
        "\n",
        "\n",
        "    switch(seleccion){\n",
        "\n",
        "        case 1:\n",
        "\n",
        "          operacion(suma, 5, 4);\n",
        "\n",
        "        break;\n",
        "\n",
        "        case 2:\n",
        "\n",
        "          operacion(resta, 10, 4);\n",
        "\n",
        "        break;\n",
        "\n",
        "        case 3:\n",
        "\n",
        "          operacion(mult, 6, 6);\n",
        "\n",
        "        break;\n",
        "\n",
        "        case 4:\n",
        "\n",
        "          operacion(divi, 40, 8);\n",
        "\n",
        "        break;\n",
        "\n",
        "    }\n",
        "\n",
        "}\n",
        "\n",
        "\n",
        "\n",
        "void Menu(){\n",
        "\n",
        "    cout << \"1. Suma \\n\";\n",
        "\n",
        "    cout << \"2. Resta \\n\";\n",
        "\n",
        "    cout << \"3. Multiplicacion \\n\";\n",
        "\n",
        "    cout << \"4. Division \\n\";\n",
        "\n",
        "}"
      ],
      "metadata": {
        "colab": {
          "base_uri": "https://localhost:8080/"
        },
        "id": "OkgJmrqzM6Xe",
        "outputId": "7094f085-9962-4933-af02-a04e379fe418"
      },
      "execution_count": 48,
      "outputs": [
        {
          "output_type": "stream",
          "name": "stdout",
          "text": [
            "Writing ejercicio3.cpp\n"
          ]
        }
      ]
    },
    {
      "cell_type": "code",
      "source": [
        "!g++ ejercicio3.cpp && ./a.out"
      ],
      "metadata": {
        "colab": {
          "base_uri": "https://localhost:8080/"
        },
        "id": "XO41TqBmRHFl",
        "outputId": "e003f915-6c37-4466-f4d9-c09b50e9bfc3"
      },
      "execution_count": 49,
      "outputs": [
        {
          "output_type": "stream",
          "name": "stdout",
          "text": [
            "1. Suma \n",
            "2. Resta \n",
            "3. Multiplicacion \n",
            "4. Division \n",
            "Ingrese un número: 3\n",
            "36"
          ]
        }
      ]
    }
  ]
}